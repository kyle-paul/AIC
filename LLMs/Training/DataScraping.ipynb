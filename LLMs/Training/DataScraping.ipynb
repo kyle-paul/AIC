{
 "cells": [
  {
   "cell_type": "code",
   "execution_count": 33,
   "metadata": {},
   "outputs": [],
   "source": [
    "from urllib.request import urlopen\n",
    "import bs4 as bs\n",
    "import requests\n",
    "from bs4 import BeautifulSoup\n",
    "import unicodedata"
   ]
  },
  {
   "cell_type": "code",
   "execution_count": 44,
   "metadata": {},
   "outputs": [],
   "source": [
    "class AutomatedDataScraping():\n",
    "    def __init__(self, url):\n",
    "        self.url = url\n",
    "        self.headers = {\n",
    "            'User-Agent': 'Mozilla/5.0 (Windows NT 10.0; Win64; x64) AppleWebKit/537.36 (KHTML, like Gecko) Chrome/91.0.4472.124 Safari/537.36',\n",
    "            'Accept': 'text/html,application/xhtml+xml,application/xml;q=0.9,image/webp,image/apng,*/*;q=0.8',\n",
    "            'Accept-Encoding': 'gzip, deflate, br',\n",
    "            'Accept-Language': 'en-US,en;q=0.9',\n",
    "            'Connection': 'keep-alive',\n",
    "            'Upgrade-Insecure-Requests': '1',\n",
    "        }\n",
    "        self.getResponse()\n",
    "        \n",
    "    def cleanResponse(self, content):\n",
    "        return [BeautifulSoup(element.text, 'html.parser').get_text().replace('\\xa0', ' ').strip() for element in content]\n",
    "    \n",
    "    def cleanPara(self, content):\n",
    "        cleaned_text = [\n",
    "            unicodedata.normalize('NFKD', element).encode('ascii', 'ignore').decode('utf-8', 'ignore').replace('\\xa0', ' ').strip()\n",
    "            for element in content\n",
    "        ]\n",
    "        return cleaned_text\n",
    "\n",
    "    def extract_paragraphs(self, soup):\n",
    "        p_tags = soup.find_all('p')\n",
    "        return self.cleanResponse(p_tags)\n",
    "    \n",
    "    def extract_videos(self, soup):\n",
    "        video_tags = soup.find_all('video')\n",
    "        video_sources = [video.get('src', '') for video in video_tags]\n",
    "        return video_sources\n",
    "    \n",
    "    def urlAnalyzer(self):\n",
    "        url_without_protocol = self.url.split(\"://\")[1]\n",
    "        url_words = url_without_protocol.split(\"/\")\n",
    "        url_words_split = [word.split(\"-\") for word in url_words]\n",
    "        url_words_flat = [word for sublist in url_words_split for word in sublist]\n",
    "        return url_words_flat\n",
    "        \n",
    "    def getResponse(self):\n",
    "        with requests.Session() as session:\n",
    "            self.response = session.get(self.url, headers=self.headers)\n",
    "            soup = BeautifulSoup(self.response.text, 'html.parser')\n",
    "            \n",
    "            self.title_tag = soup.find('title')\n",
    "            self.title = self.title_tag.text if self.title_tag else None\n",
    "            self.h1_tags = soup.find_all(['h1'])\n",
    "            self.h2_tags = soup.find_all(['h2'])\n",
    "            self.h3_tags = soup.find_all(['h3'])\n",
    "            self.h4_tags = soup.find_all(['h4'])\n",
    "            self.h5_tags = soup.find_all(['h5'])\n",
    "            self.h6_tags = soup.find_all(['h6'])\n",
    "            self.img_tags = soup.find_all('img')\n",
    "            self.alt_attributes = [img.get('alt', '') for img in self.img_tags]\n",
    "            self.paragraphs = self.extract_paragraphs(soup)\n",
    "            self.videos = self.extract_videos(soup)\n",
    "            \n",
    "    def returnResponse(self):\n",
    "        self.dictionary = {\n",
    "            'title': self.title,\n",
    "            'h1': self.cleanResponse(self.h1_tags),\n",
    "            'img_tags': self.img_tags,\n",
    "            'h2': self.cleanResponse(self.h2_tags),\n",
    "            'h3': self.cleanResponse(self.h4_tags),\n",
    "            'h4': self.cleanResponse(self.h4_tags),\n",
    "            'h5': self.cleanResponse(self.h5_tags),\n",
    "            'h6': self.cleanResponse(self.h6_tags),\n",
    "            'p': ' '.join(self.cleanPara(self.paragraphs)),\n",
    "            'videos': self.videos,\n",
    "            'url': self.urlAnalyzer(),\n",
    "        } \n",
    "        return self.dictionary"
   ]
  },
  {
   "cell_type": "markdown",
   "metadata": {},
   "source": [
    "## Web Scrapping"
   ]
  },
  {
   "cell_type": "code",
   "execution_count": 46,
   "metadata": {},
   "outputs": [
    {
     "data": {
      "text/plain": [
       "'aBasketball is a sport that is loved and enjoyed by people all over the world. In 2019, The International Basketball Federation (FIBA) said that basketball had 450 million players and fans globally. The sport has two teams with five players who each compete to score points by pushing a ball down a hoop placed 10 feet off the ground. A Because basketball doesnat need much equipment and can be set up easily anywhere, it can be played both indoors and outdoors. A Also, you can get started with basketball as a team of one or even two people.A aA Basketball is a lot more than just an exciting game to play. The sport offers a lot of physical, mental, and emotional health benefits for anyone who wants to become more active or develop a healthier lifestyle. In this sense, it is a great mind and full-body workout.A Playing basketball benefits your physical health in a number of different ways, including:A Helps you improve your heart health: Engaging in intense sports activities like basketball and using up at least 2000 or more kilocalories per week can help you reduce your risk of getting heart disease. A study points out that 70-minute basketball sessions played three times per week with the exercise intensity set at 50% to 80% of your heart rate reserve (HRR) helps reduce blood pressure. HRR is a way to measure how intensely youare exercising during a workout or other physical activity. Itas good for your bones: Playing basketball gives you a workout with a mix of jumping exercises in combination with weight-bearing activities a like tennis or jogging a and resistance exercises in the form of weight-lifting. Together, these activities all help to support bone health in adults. When your bones are not healthy, they are more likely to become weak and break easier. When your bones break, it can be painful and you may need surgery to help fix the damage. Developing healthy lifestyle choices can help you reduce the risk of osteoporosis, a disease that makes your bones weak.A Helps you lose weight: Basketball can help you burn up to 700 calories per hour, which makes it a good option to consider if youare trying to lose weight. People with obesity have a higher risk of developing conditions like heart disease, type 2 diabetes, cancer, problems with digestion, sexual, or gynecological functions, sleep apnea, degenerative arthritis, and more severe symptoms of COVID-19. Helps you improve your balance and coordination: Basketball can help you improve your sense of balance. Balance is a way for your body to plan/respond to movements based on the information collected by your brain. It also helps you boost your ability to coordinate your movements because you need to be watching, holding, dribbling, or passing the ball throughout the game. A Helps build muscles: Playing basketball can help you increase your upper and lower body strength by building muscle. There are many different mental and emotional health benefits to playing basketball, including: SOURCES: Better Health Channel: \"Basketball - health benefits.\"A Cardiovascular Clinics: \"The role of exercise in the primary and secondary prevention of atherosclerotic coronary artery disease.\"A Harvard Health Publishing: Harvard Medical School: \"Body and brain are crucial to good balance.\"A CIES Sports Observatory: \"International Basketball Migration Report 2019.\" Medscape: \"Physical Activity and Bone Health.\" Mayo Clinic: A \"Exercise and stress: Get moving to manage stress,\" \"Fitness,\" \"Multitasking isn\\'t working for me. How can I focus my attention and improve my concentration?\" \"Obesity.\" NIH Osteoporosis and Related Bone Diseases National Resource Center: \"Bone Health for Life: Health Information Basics for You and Your Family.\" National Institute on Aging: \"Osteoporosis.\" Procedia - Social and Behavioral Sciences: \"Decision Making by Coaches and Athletes in Sport.\"     A 2005 - 2024 WebMD LLC, an Internet Brands company. All rights reserved. WebMD does not provide medical advice, diagnosis or treatment. See additional information.'"
      ]
     },
     "execution_count": 46,
     "metadata": {},
     "output_type": "execute_result"
    }
   ],
   "source": [
    "urls = [\n",
    "    \"https://www.realbuzz.com/articles-interests/sports-activities/article/top-10-tips-for-starting-out-in-basketball/\",\n",
    "    \"https://www.wikihow.com/Improve-at-Basketball\",\n",
    "    \"https://www.webmd.com/fitness-exercise/health-benefits-basketball\",\n",
    "]\n",
    "\n",
    "instance = AutomatedDataScraping(\n",
    "    url=urls[2]\n",
    ")\n",
    "result = instance.returnResponse()\n",
    "result['p']"
   ]
  }
 ],
 "metadata": {
  "kernelspec": {
   "display_name": ".ven",
   "language": "python",
   "name": "python3"
  },
  "language_info": {
   "codemirror_mode": {
    "name": "ipython",
    "version": 3
   },
   "file_extension": ".py",
   "mimetype": "text/x-python",
   "name": "python",
   "nbconvert_exporter": "python",
   "pygments_lexer": "ipython3",
   "version": "3.10.0"
  }
 },
 "nbformat": 4,
 "nbformat_minor": 2
}
